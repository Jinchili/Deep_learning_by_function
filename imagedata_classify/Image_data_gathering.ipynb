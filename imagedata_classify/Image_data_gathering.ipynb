{
 "cells": [
  {
   "cell_type": "markdown",
   "metadata": {},
   "source": [
    "##The \"ImageClassifierData.from_paths\" funtion supposed to take those images(usualy with single label) in to data format ready for pytorch training"
   ]
  },
  {
   "cell_type": "code",
   "execution_count": 1,
   "metadata": {},
   "outputs": [],
   "source": [
    "#first we need to set the size of the training images, and the batch size for computing gradient\n",
    "sz=68  ####[there are two important number, 224 and 299 which are the pretrained input scale for imagenet archetecture]\n",
    "bs=16   ####[make this number smaller if run out of the memory; this will also influence the speed of learning process]"
   ]
  },
  {
   "cell_type": "code",
   "execution_count": 4,
   "metadata": {},
   "outputs": [],
   "source": [
    "#figure out the location of the training images ;\n",
    "train_dir='D:sfsdf\\a\\train\\\\' \n",
    "Valid_dir='D:sfsdf\\a\\Valid\\\\'\n",
    "PATH='D:sfsdf\\a\\\\'\n"
   ]
  },
  {
   "cell_type": "code",
   "execution_count": null,
   "metadata": {},
   "outputs": [],
   "source": [
    "#####V1#####\n",
    "##the structure of the folders should looks like this\n",
    "#Data\n",
    "##Train\n",
    "###Label1\n",
    "#####[some images]\n",
    "###Label2...\n",
    "#####[some images]\n",
    "##Valid\n",
    "###Label1\n",
    "#####[some images]\n",
    "###Label2...\n",
    "#####[some images]\n",
    "# you only need pass the address of Data\n",
    "arch=resnet34  ##specify the architecture so that the data will be preprocessed to speed up the process\n",
    "data = ImageClassifierData.from_paths(PATH,tfms=tfms_from_model(arch,sz))"
   ]
  },
  {
   "cell_type": "code",
   "execution_count": null,
   "metadata": {},
   "outputs": [],
   "source": [
    "####V2#####\n",
    "###if the data labels are stored in csv files \n",
    "\n"
   ]
  }
 ],
 "metadata": {
  "kernelspec": {
   "display_name": "Python 3",
   "language": "python",
   "name": "python3"
  },
  "language_info": {
   "codemirror_mode": {
    "name": "ipython",
    "version": 3
   },
   "file_extension": ".py",
   "mimetype": "text/x-python",
   "name": "python",
   "nbconvert_exporter": "python",
   "pygments_lexer": "ipython3",
   "version": "3.5.2"
  }
 },
 "nbformat": 4,
 "nbformat_minor": 2
}
