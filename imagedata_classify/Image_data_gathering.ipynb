{
 "cells": [
  {
   "cell_type": "markdown",
   "metadata": {},
   "source": [
    "##The \"ImageClassifierData.from_paths\" funtion supposed to take those images(usualy with single label) in to data format ready for pytorch training"
   ]
  },
  {
   "cell_type": "code",
   "execution_count": 1,
   "metadata": {
    "collapsed": true
   },
   "outputs": [],
   "source": [
    "#first we need to set the size of the training images, and the batch size for computing gradient\n",
    "sz=68  ####[there are two important number, 224 and 299 which are the pretrained input scale for imagenet archetecture]\n",
    "bs=16   ####[make this number smaller if run out of the memory; this will also influence the speed of learning process]"
   ]
  },
  {
   "cell_type": "code",
   "execution_count": 4,
   "metadata": {
    "collapsed": true
   },
   "outputs": [],
   "source": [
    "#figure out the location of the training images ;\n",
    "train_dir='D:sfsdf\\data\\train\\\\' \n",
    "Valid_dir='D:sfsdf\\data\\Valid\\\\'\n",
    "PATH='D:sfsdf\\data\\\\'\n"
   ]
  },
  {
   "cell_type": "code",
   "execution_count": null,
   "metadata": {
    "collapsed": true
   },
   "outputs": [],
   "source": [
    "#####V1#####\n",
    "##the structure of the folders should looks like this\n",
    "#Data\n",
    "##Train\n",
    "###Label1\n",
    "#####[some images]\n",
    "###Label2...\n",
    "#####[some images]\n",
    "##Valid\n",
    "###Label1\n",
    "#####[some images]\n",
    "###Label2...\n",
    "#####[some images]\n",
    "# you only need pass the address of Data\n",
    "arch=resnet34  ##specify the architecture so that the data will be preprocessed to speed up the process\n",
    "data = ImageClassifierData.from_paths(PATH,tfms=tfms_from_model(arch,sz))"
   ]
  },
  {
   "cell_type": "code",
   "execution_count": null,
   "metadata": {
    "collapsed": true
   },
   "outputs": [],
   "source": [
    "####V2#####\n",
    "###if the data labels are stored in csv files[use .from_csv]\n",
    "valid_ind=get_cv_idxs(n,val_pct=0.2)  ##pass in an number then generate a list of number which used for validation\n",
    "tfms=tfms_from_model(f_model,sz,aug_tfms=transforms_side_on,max_zoom=1.05)  ##generate a data augmentation formate\n",
    "data=ImageClassifierData.from_csv(path=PATH,\n",
    "                                  folder=\"train\\\\train\",##this is sub folder of data\n",
    "                                  csv_fname=path_labels+'labels.csv', ##where the label located\n",
    "                                  suffix='.jpg',##this is used to add to label index to match the name of the images\n",
    "                                  test_name='test\\\\test',##same as the folder\n",
    "                                  bs=bs,\n",
    "                                  tfms=tfms,\n",
    "                                  val_idxs=valid_ind)\n"
   ]
  },
  {
   "cell_type": "code",
   "execution_count": null,
   "metadata": {
    "collapsed": true
   },
   "outputs": [],
   "source": [
    "##a example of get_data function which is the assembled version of previous two\n",
    "def get_data(sz,bs):\n",
    "    tfms=tfms_from_model(f_model,sz,aug_tfms=transforms_side_on,max_zoom=1.1)\n",
    "    data=ImageClassifierData.from_csv(path=path_labels,folder=\"train\\\\train\",csv_fname=path_labels+'labels.csv',suffix='.jpg',test_name='test\\\\test',bs=bs,tfms=tfms,val_idxs=valid_ind)\n",
    "    return data ##if sz>300 else data.resize(340,'tmp')"
   ]
  }
 ],
 "metadata": {
  "kernelspec": {
   "display_name": "Python 3",
   "language": "python",
   "name": "python3"
  },
  "language_info": {
   "codemirror_mode": {
    "name": "ipython",
    "version": 3
   },
   "file_extension": ".py",
   "mimetype": "text/x-python",
   "name": "python",
   "nbconvert_exporter": "python",
   "pygments_lexer": "ipython3",
   "version": "3.6.1"
  }
 },
 "nbformat": 4,
 "nbformat_minor": 2
}
